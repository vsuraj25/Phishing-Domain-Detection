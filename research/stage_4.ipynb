{
 "cells": [
  {
   "attachments": {},
   "cell_type": "markdown",
   "metadata": {},
   "source": [
    "### Imports"
   ]
  },
  {
   "cell_type": "code",
   "execution_count": 8,
   "metadata": {},
   "outputs": [],
   "source": [
    "from dataclasses import dataclass\n",
    "from pathlib import Path\n",
    "from Phishing_Detector.utils import *\n",
    "from Phishing_Detector.constants import *\n",
    "import pandas as pd\n",
    "from sklearn.neural_network import MLPClassifier\n",
    "from sklearn.metrics import accuracy_score, precision_score, recall_score, f1_score"
   ]
  },
  {
   "cell_type": "code",
   "execution_count": 2,
   "metadata": {},
   "outputs": [
    {
     "data": {
      "text/plain": [
       "'c:\\\\DS_Projects\\\\Phishing-Domain-Detection'"
      ]
     },
     "execution_count": 2,
     "metadata": {},
     "output_type": "execute_result"
    }
   ],
   "source": [
    "os.chdir('../')\n",
    "#os.chdir('../DS_Projects/Phishing-Domain-Detection/')\n",
    "os.getcwd()"
   ]
  },
  {
   "attachments": {},
   "cell_type": "markdown",
   "metadata": {},
   "source": [
    "### Config Entity"
   ]
  },
  {
   "cell_type": "code",
   "execution_count": 35,
   "metadata": {},
   "outputs": [],
   "source": [
    "@dataclass(frozen=True)\n",
    "class ModelTrainingConfig:\n",
    "    root_dir : Path\n",
    "    x_train_file_path : Path\n",
    "    x_test_file_path : Path\n",
    "    y_train_file_path : Path\n",
    "    y_test_file_path : Path\n",
    "    saved_model_dir_path : Path\n",
    "    saved_model_file_path : Path\n",
    "    param_hidden_layer_sizes: tuple\n",
    "    param_max_iter: int\n",
    "    param_activation: str\n",
    "    param_solver: str"
   ]
  },
  {
   "attachments": {},
   "cell_type": "markdown",
   "metadata": {},
   "source": [
    "### Configuration"
   ]
  },
  {
   "cell_type": "code",
   "execution_count": 36,
   "metadata": {},
   "outputs": [],
   "source": [
    "class ConfigurationManager:\n",
    "\n",
    "    def __init__(\n",
    "            self, \n",
    "            config_path = CONFIG_FILE_PATH,\n",
    "            params_path = PARAMS_FILE_PATH\n",
    "    ):\n",
    "        self.config = read_yaml(config_path)\n",
    "        self.params = read_yaml(params_path)\n",
    "        create_directories([self.config.artifacts_root])\n",
    "\n",
    "    def get_model_training_config(self) -> ModelTrainingConfig:\n",
    "        \n",
    "        config = self.config.model_training\n",
    "        params = self.params\n",
    "        create_directories([config.root_dir])\n",
    "\n",
    "        model_training_config = ModelTrainingConfig(\n",
    "            root_dir = config.root_dir,\n",
    "            x_train_file_path = config.x_train_file_path,\n",
    "            x_test_file_path = config.x_test_file_path,\n",
    "            y_train_file_path = config.y_train_file_path,\n",
    "            y_test_file_path = config.y_test_file_path,\n",
    "            saved_model_dir_path = config.saved_model_dir_path,\n",
    "            saved_model_file_path = config.saved_model_file_path,\n",
    "            param_hidden_layer_sizes = params.hidden_layer_sizes,\n",
    "            param_max_iter = params.max_iter,\n",
    "            param_activation = params.activation,\n",
    "            param_solver = params.solver\n",
    "        )\n",
    "\n",
    "        return model_training_config\n",
    "\n"
   ]
  },
  {
   "cell_type": "code",
   "execution_count": 39,
   "metadata": {},
   "outputs": [],
   "source": [
    "class ModelTraining:\n",
    "    \n",
    "    def __init__(self, config:ModelTrainingConfig):\n",
    "        print(f\"{'>'*10} Starting Model Training Stage! {'<'*10}\")\n",
    "        \n",
    "        print(f\"Getting Configuration for Model Training Stage...\")\n",
    "        self.config = config\n",
    "        print(f\"Configurations : {config}\")\n",
    "\n",
    "        print(f\"Creating required directories...\")\n",
    "        create_directories([self.config.saved_model_dir_path])\n",
    "\n",
    "    def load_train_data(self):\n",
    "        x_train = pd.read_csv(Path(self.config.x_train_file_path))\n",
    "        y_train = pd.read_csv(Path(self.config.y_train_file_path))\n",
    "\n",
    "        return x_train, y_train\n",
    "\n",
    "    def train_model(self):\n",
    "        print(f\"Loading training data...\")\n",
    "        x_train, y_train  = self.load_train_data()\n",
    "        print(f\"Training data loaded successfully...\")\n",
    "\n",
    "        print(f\"Initializing the MLPClassifier model...\")\n",
    "        mlp_clf = MLPClassifier(\n",
    "            hidden_layer_sizes= self.config.param_hidden_layer_sizes,\n",
    "            max_iter= self.config.param_max_iter,\n",
    "            activation= self.config.param_activation,\n",
    "            solver= self.config.param_solver\n",
    "        )\n",
    "        print(f\"Fitting the training data in the model...\")\n",
    "        mlp_clf.fit(x_train, y_train)\n",
    "        print(f\"Model Training Complete...\")\n",
    "\n",
    "        print(f\"Saving the model at {self.config.saved_model_file_path}...\")\n",
    "        self.save_model(mlp_clf)\n",
    "        print(f\"Model saved at {self.config.saved_model_file_path}...\")\n",
    "\n",
    "    def save_model(self, model):\n",
    "        with open(Path(self.config.saved_model_file_path), 'wb') as model_path:\n",
    "            joblib.dump(model, model_path)\n",
    "\n",
    "\n"
   ]
  },
  {
   "cell_type": "code",
   "execution_count": 40,
   "metadata": {},
   "outputs": [
    {
     "name": "stdout",
     "output_type": "stream",
     "text": [
      ">>>>>>>>>> Starting Model Training Stage! <<<<<<<<<<\n",
      "Getting Configuration for Model Training Stage...\n",
      "Configurations : ModelTrainingConfig(root_dir='model_training', x_train_file_path='artifacts/data_transformation/train_test_data/x_train.csv', x_test_file_path='artifacts/data_transformation/train_test_data/x_test.csv', y_train_file_path='artifacts/data_transformation/train_test_data/y_train.csv', y_test_file_path='artifacts/data_transformation/train_test_data/y_test.csv', saved_model_dir_path='artifacts/model_training/saved_models', saved_model_file_path='artifacts/model_training/saved_models/model.joblib', param_hidden_layer_sizes=BoxList([150, 100, 50]), param_max_iter=300, param_activation='relu', param_solver='adam')\n",
      "Creating required directories...\n",
      "Loading training data...\n",
      "Training data loaded successfully...\n",
      "Initializing the MLPClassifier model...\n",
      "Fitting the training data in the model...\n"
     ]
    },
    {
     "name": "stderr",
     "output_type": "stream",
     "text": [
      "c:\\DS_Projects\\Phishing-Domain-Detection\\phish_predictor_env\\lib\\site-packages\\sklearn\\neural_network\\_multilayer_perceptron.py:1098: DataConversionWarning: A column-vector y was passed when a 1d array was expected. Please change the shape of y to (n_samples, ), for example using ravel().\n",
      "  y = column_or_1d(y, warn=True)\n"
     ]
    },
    {
     "name": "stdout",
     "output_type": "stream",
     "text": [
      "Model Training Complete...\n",
      "Saving the model at artifacts/model_training/saved_models/model.joblib...\n",
      "Model saved at artifacts/model_training/saved_models/model.joblib...\n"
     ]
    }
   ],
   "source": [
    "try:\n",
    "    config = ConfigurationManager()\n",
    "    model_training_config = config.get_model_training_config()\n",
    "    model_trainer = ModelTraining(config = model_training_config)\n",
    "    model_trainer.train_model()\n",
    "except Exception as e:\n",
    "    raise e"
   ]
  }
 ],
 "metadata": {
  "kernelspec": {
   "display_name": "Python 3",
   "language": "python",
   "name": "python3"
  },
  "language_info": {
   "codemirror_mode": {
    "name": "ipython",
    "version": 3
   },
   "file_extension": ".py",
   "mimetype": "text/x-python",
   "name": "python",
   "nbconvert_exporter": "python",
   "pygments_lexer": "ipython3",
   "version": "3.8.16"
  },
  "orig_nbformat": 4
 },
 "nbformat": 4,
 "nbformat_minor": 2
}
