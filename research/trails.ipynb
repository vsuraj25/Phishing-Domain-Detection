{
 "cells": [
  {
   "attachments": {},
   "cell_type": "markdown",
   "metadata": {},
   "source": [
    "## Simple Imputer Impelmentation"
   ]
  },
  {
   "cell_type": "code",
   "execution_count": 1,
   "metadata": {},
   "outputs": [],
   "source": [
    "from sklearn.impute import SimpleImputer\n",
    "import pandas as pd "
   ]
  },
  {
   "cell_type": "code",
   "execution_count": 2,
   "metadata": {},
   "outputs": [],
   "source": [
    "data = pd.read_csv('data/phish_data.csv')"
   ]
  },
  {
   "cell_type": "code",
   "execution_count": 3,
   "metadata": {},
   "outputs": [],
   "source": [
    "imputer = SimpleImputer(strategy='mean')"
   ]
  },
  {
   "cell_type": "code",
   "execution_count": 4,
   "metadata": {},
   "outputs": [
    {
     "data": {
      "text/html": [
       "<style>#sk-container-id-1 {color: black;background-color: white;}#sk-container-id-1 pre{padding: 0;}#sk-container-id-1 div.sk-toggleable {background-color: white;}#sk-container-id-1 label.sk-toggleable__label {cursor: pointer;display: block;width: 100%;margin-bottom: 0;padding: 0.3em;box-sizing: border-box;text-align: center;}#sk-container-id-1 label.sk-toggleable__label-arrow:before {content: \"▸\";float: left;margin-right: 0.25em;color: #696969;}#sk-container-id-1 label.sk-toggleable__label-arrow:hover:before {color: black;}#sk-container-id-1 div.sk-estimator:hover label.sk-toggleable__label-arrow:before {color: black;}#sk-container-id-1 div.sk-toggleable__content {max-height: 0;max-width: 0;overflow: hidden;text-align: left;background-color: #f0f8ff;}#sk-container-id-1 div.sk-toggleable__content pre {margin: 0.2em;color: black;border-radius: 0.25em;background-color: #f0f8ff;}#sk-container-id-1 input.sk-toggleable__control:checked~div.sk-toggleable__content {max-height: 200px;max-width: 100%;overflow: auto;}#sk-container-id-1 input.sk-toggleable__control:checked~label.sk-toggleable__label-arrow:before {content: \"▾\";}#sk-container-id-1 div.sk-estimator input.sk-toggleable__control:checked~label.sk-toggleable__label {background-color: #d4ebff;}#sk-container-id-1 div.sk-label input.sk-toggleable__control:checked~label.sk-toggleable__label {background-color: #d4ebff;}#sk-container-id-1 input.sk-hidden--visually {border: 0;clip: rect(1px 1px 1px 1px);clip: rect(1px, 1px, 1px, 1px);height: 1px;margin: -1px;overflow: hidden;padding: 0;position: absolute;width: 1px;}#sk-container-id-1 div.sk-estimator {font-family: monospace;background-color: #f0f8ff;border: 1px dotted black;border-radius: 0.25em;box-sizing: border-box;margin-bottom: 0.5em;}#sk-container-id-1 div.sk-estimator:hover {background-color: #d4ebff;}#sk-container-id-1 div.sk-parallel-item::after {content: \"\";width: 100%;border-bottom: 1px solid gray;flex-grow: 1;}#sk-container-id-1 div.sk-label:hover label.sk-toggleable__label {background-color: #d4ebff;}#sk-container-id-1 div.sk-serial::before {content: \"\";position: absolute;border-left: 1px solid gray;box-sizing: border-box;top: 0;bottom: 0;left: 50%;z-index: 0;}#sk-container-id-1 div.sk-serial {display: flex;flex-direction: column;align-items: center;background-color: white;padding-right: 0.2em;padding-left: 0.2em;position: relative;}#sk-container-id-1 div.sk-item {position: relative;z-index: 1;}#sk-container-id-1 div.sk-parallel {display: flex;align-items: stretch;justify-content: center;background-color: white;position: relative;}#sk-container-id-1 div.sk-item::before, #sk-container-id-1 div.sk-parallel-item::before {content: \"\";position: absolute;border-left: 1px solid gray;box-sizing: border-box;top: 0;bottom: 0;left: 50%;z-index: -1;}#sk-container-id-1 div.sk-parallel-item {display: flex;flex-direction: column;z-index: 1;position: relative;background-color: white;}#sk-container-id-1 div.sk-parallel-item:first-child::after {align-self: flex-end;width: 50%;}#sk-container-id-1 div.sk-parallel-item:last-child::after {align-self: flex-start;width: 50%;}#sk-container-id-1 div.sk-parallel-item:only-child::after {width: 0;}#sk-container-id-1 div.sk-dashed-wrapped {border: 1px dashed gray;margin: 0 0.4em 0.5em 0.4em;box-sizing: border-box;padding-bottom: 0.4em;background-color: white;}#sk-container-id-1 div.sk-label label {font-family: monospace;font-weight: bold;display: inline-block;line-height: 1.2em;}#sk-container-id-1 div.sk-label-container {text-align: center;}#sk-container-id-1 div.sk-container {/* jupyter's `normalize.less` sets `[hidden] { display: none; }` but bootstrap.min.css set `[hidden] { display: none !important; }` so we also need the `!important` here to be able to override the default hidden behavior on the sphinx rendered scikit-learn.org. See: https://github.com/scikit-learn/scikit-learn/issues/21755 */display: inline-block !important;position: relative;}#sk-container-id-1 div.sk-text-repr-fallback {display: none;}</style><div id=\"sk-container-id-1\" class=\"sk-top-container\"><div class=\"sk-text-repr-fallback\"><pre>SimpleImputer()</pre><b>In a Jupyter environment, please rerun this cell to show the HTML representation or trust the notebook. <br />On GitHub, the HTML representation is unable to render, please try loading this page with nbviewer.org.</b></div><div class=\"sk-container\" hidden><div class=\"sk-item\"><div class=\"sk-estimator sk-toggleable\"><input class=\"sk-toggleable__control sk-hidden--visually\" id=\"sk-estimator-id-1\" type=\"checkbox\" checked><label for=\"sk-estimator-id-1\" class=\"sk-toggleable__label sk-toggleable__label-arrow\">SimpleImputer</label><div class=\"sk-toggleable__content\"><pre>SimpleImputer()</pre></div></div></div></div></div>"
      ],
      "text/plain": [
       "SimpleImputer()"
      ]
     },
     "execution_count": 4,
     "metadata": {},
     "output_type": "execute_result"
    }
   ],
   "source": [
    "imputer.fit(data)"
   ]
  },
  {
   "cell_type": "code",
   "execution_count": 5,
   "metadata": {},
   "outputs": [],
   "source": [
    "imputed_data = imputer.transform(data)"
   ]
  },
  {
   "cell_type": "code",
   "execution_count": 6,
   "metadata": {},
   "outputs": [],
   "source": [
    "imputed_df = pd.DataFrame(imputed_data, columns=data.columns)"
   ]
  },
  {
   "cell_type": "code",
   "execution_count": 7,
   "metadata": {},
   "outputs": [
    {
     "data": {
      "text/html": [
       "<div>\n",
       "<style scoped>\n",
       "    .dataframe tbody tr th:only-of-type {\n",
       "        vertical-align: middle;\n",
       "    }\n",
       "\n",
       "    .dataframe tbody tr th {\n",
       "        vertical-align: top;\n",
       "    }\n",
       "\n",
       "    .dataframe thead th {\n",
       "        text-align: right;\n",
       "    }\n",
       "</style>\n",
       "<table border=\"1\" class=\"dataframe\">\n",
       "  <thead>\n",
       "    <tr style=\"text-align: right;\">\n",
       "      <th></th>\n",
       "      <th>having_IP_Address</th>\n",
       "      <th>URL_Length</th>\n",
       "      <th>Shortining_Service</th>\n",
       "      <th>having_At_Symbol</th>\n",
       "      <th>double_slash_redirecting</th>\n",
       "      <th>Prefix_Suffix</th>\n",
       "      <th>having_Sub_Domain</th>\n",
       "      <th>SSLfinal_State</th>\n",
       "      <th>Domain_registeration_length</th>\n",
       "      <th>Favicon</th>\n",
       "      <th>...</th>\n",
       "      <th>popUpWidnow</th>\n",
       "      <th>Iframe</th>\n",
       "      <th>age_of_domain</th>\n",
       "      <th>DNSRecord</th>\n",
       "      <th>web_traffic</th>\n",
       "      <th>Page_Rank</th>\n",
       "      <th>Google_Index</th>\n",
       "      <th>Links_pointing_to_page</th>\n",
       "      <th>Statistical_report</th>\n",
       "      <th>Result</th>\n",
       "    </tr>\n",
       "  </thead>\n",
       "  <tbody>\n",
       "    <tr>\n",
       "      <th>0</th>\n",
       "      <td>-1.0</td>\n",
       "      <td>1.0</td>\n",
       "      <td>1.0</td>\n",
       "      <td>1.0</td>\n",
       "      <td>-1.0</td>\n",
       "      <td>-1.0</td>\n",
       "      <td>-1.0</td>\n",
       "      <td>-1.0</td>\n",
       "      <td>-1.0</td>\n",
       "      <td>1.0</td>\n",
       "      <td>...</td>\n",
       "      <td>1.0</td>\n",
       "      <td>1.0</td>\n",
       "      <td>-1.0</td>\n",
       "      <td>-1.0</td>\n",
       "      <td>-1.0</td>\n",
       "      <td>-1.0</td>\n",
       "      <td>1.0</td>\n",
       "      <td>1.0</td>\n",
       "      <td>-1.0</td>\n",
       "      <td>-1.0</td>\n",
       "    </tr>\n",
       "    <tr>\n",
       "      <th>1</th>\n",
       "      <td>1.0</td>\n",
       "      <td>1.0</td>\n",
       "      <td>1.0</td>\n",
       "      <td>1.0</td>\n",
       "      <td>1.0</td>\n",
       "      <td>-1.0</td>\n",
       "      <td>0.0</td>\n",
       "      <td>1.0</td>\n",
       "      <td>-1.0</td>\n",
       "      <td>1.0</td>\n",
       "      <td>...</td>\n",
       "      <td>1.0</td>\n",
       "      <td>1.0</td>\n",
       "      <td>-1.0</td>\n",
       "      <td>-1.0</td>\n",
       "      <td>0.0</td>\n",
       "      <td>-1.0</td>\n",
       "      <td>1.0</td>\n",
       "      <td>1.0</td>\n",
       "      <td>1.0</td>\n",
       "      <td>-1.0</td>\n",
       "    </tr>\n",
       "    <tr>\n",
       "      <th>2</th>\n",
       "      <td>1.0</td>\n",
       "      <td>0.0</td>\n",
       "      <td>1.0</td>\n",
       "      <td>1.0</td>\n",
       "      <td>1.0</td>\n",
       "      <td>-1.0</td>\n",
       "      <td>-1.0</td>\n",
       "      <td>-1.0</td>\n",
       "      <td>-1.0</td>\n",
       "      <td>1.0</td>\n",
       "      <td>...</td>\n",
       "      <td>1.0</td>\n",
       "      <td>1.0</td>\n",
       "      <td>1.0</td>\n",
       "      <td>-1.0</td>\n",
       "      <td>1.0</td>\n",
       "      <td>-1.0</td>\n",
       "      <td>1.0</td>\n",
       "      <td>0.0</td>\n",
       "      <td>-1.0</td>\n",
       "      <td>-1.0</td>\n",
       "    </tr>\n",
       "    <tr>\n",
       "      <th>3</th>\n",
       "      <td>1.0</td>\n",
       "      <td>0.0</td>\n",
       "      <td>1.0</td>\n",
       "      <td>1.0</td>\n",
       "      <td>1.0</td>\n",
       "      <td>-1.0</td>\n",
       "      <td>-1.0</td>\n",
       "      <td>-1.0</td>\n",
       "      <td>1.0</td>\n",
       "      <td>1.0</td>\n",
       "      <td>...</td>\n",
       "      <td>1.0</td>\n",
       "      <td>1.0</td>\n",
       "      <td>-1.0</td>\n",
       "      <td>-1.0</td>\n",
       "      <td>1.0</td>\n",
       "      <td>-1.0</td>\n",
       "      <td>1.0</td>\n",
       "      <td>-1.0</td>\n",
       "      <td>1.0</td>\n",
       "      <td>-1.0</td>\n",
       "    </tr>\n",
       "    <tr>\n",
       "      <th>4</th>\n",
       "      <td>1.0</td>\n",
       "      <td>0.0</td>\n",
       "      <td>-1.0</td>\n",
       "      <td>1.0</td>\n",
       "      <td>1.0</td>\n",
       "      <td>-1.0</td>\n",
       "      <td>1.0</td>\n",
       "      <td>1.0</td>\n",
       "      <td>-1.0</td>\n",
       "      <td>1.0</td>\n",
       "      <td>...</td>\n",
       "      <td>-1.0</td>\n",
       "      <td>1.0</td>\n",
       "      <td>-1.0</td>\n",
       "      <td>-1.0</td>\n",
       "      <td>0.0</td>\n",
       "      <td>-1.0</td>\n",
       "      <td>1.0</td>\n",
       "      <td>1.0</td>\n",
       "      <td>1.0</td>\n",
       "      <td>1.0</td>\n",
       "    </tr>\n",
       "  </tbody>\n",
       "</table>\n",
       "<p>5 rows × 31 columns</p>\n",
       "</div>"
      ],
      "text/plain": [
       "   having_IP_Address  URL_Length  Shortining_Service  having_At_Symbol   \n",
       "0               -1.0         1.0                 1.0               1.0  \\\n",
       "1                1.0         1.0                 1.0               1.0   \n",
       "2                1.0         0.0                 1.0               1.0   \n",
       "3                1.0         0.0                 1.0               1.0   \n",
       "4                1.0         0.0                -1.0               1.0   \n",
       "\n",
       "   double_slash_redirecting  Prefix_Suffix  having_Sub_Domain  SSLfinal_State   \n",
       "0                      -1.0           -1.0               -1.0            -1.0  \\\n",
       "1                       1.0           -1.0                0.0             1.0   \n",
       "2                       1.0           -1.0               -1.0            -1.0   \n",
       "3                       1.0           -1.0               -1.0            -1.0   \n",
       "4                       1.0           -1.0                1.0             1.0   \n",
       "\n",
       "   Domain_registeration_length  Favicon  ...  popUpWidnow  Iframe   \n",
       "0                         -1.0      1.0  ...          1.0     1.0  \\\n",
       "1                         -1.0      1.0  ...          1.0     1.0   \n",
       "2                         -1.0      1.0  ...          1.0     1.0   \n",
       "3                          1.0      1.0  ...          1.0     1.0   \n",
       "4                         -1.0      1.0  ...         -1.0     1.0   \n",
       "\n",
       "   age_of_domain  DNSRecord  web_traffic  Page_Rank  Google_Index   \n",
       "0           -1.0       -1.0         -1.0       -1.0           1.0  \\\n",
       "1           -1.0       -1.0          0.0       -1.0           1.0   \n",
       "2            1.0       -1.0          1.0       -1.0           1.0   \n",
       "3           -1.0       -1.0          1.0       -1.0           1.0   \n",
       "4           -1.0       -1.0          0.0       -1.0           1.0   \n",
       "\n",
       "   Links_pointing_to_page  Statistical_report  Result  \n",
       "0                     1.0                -1.0    -1.0  \n",
       "1                     1.0                 1.0    -1.0  \n",
       "2                     0.0                -1.0    -1.0  \n",
       "3                    -1.0                 1.0    -1.0  \n",
       "4                     1.0                 1.0     1.0  \n",
       "\n",
       "[5 rows x 31 columns]"
      ]
     },
     "execution_count": 7,
     "metadata": {},
     "output_type": "execute_result"
    }
   ],
   "source": [
    "imputed_df.head()"
   ]
  },
  {
   "cell_type": "code",
   "execution_count": 1,
   "metadata": {},
   "outputs": [],
   "source": [
    "from urllib.parse import urlparse\n",
    "import requests"
   ]
  },
  {
   "cell_type": "code",
   "execution_count": 43,
   "metadata": {},
   "outputs": [],
   "source": [
    "def _get_response_with_https(url):\n",
    "        \n",
    "    try:\n",
    "        parsed_url = urlparse(url)\n",
    "    \n",
    "        if not parsed_url.scheme:\n",
    "            url = \"https://\" + url\n",
    "            \n",
    "        response = requests.get(url, timeout= 10).status_code\n",
    "        print(response)\n",
    "        if response == 200:\n",
    "            return 0\n",
    "        else: \n",
    "            return f\"Irresponsive URL!\"\n",
    "    except Exception as e:\n",
    "        return e"
   ]
  },
  {
   "cell_type": "code",
   "execution_count": 8,
   "metadata": {},
   "outputs": [],
   "source": [
    "import re\n",
    "import os"
   ]
  },
  {
   "cell_type": "code",
   "execution_count": 19,
   "metadata": {},
   "outputs": [],
   "source": [
    "def _get_whois_data(url):\n",
    "        \n",
    "    def _get_domain(url):\n",
    "        try:\n",
    "            domain = urlparse(url).netloc\n",
    "            if domain == \"\":\n",
    "                domain_regex = r'^(?:https?:\\/\\/)?(?:www\\.)?([a-zA-Z0-9-]+(?:\\.[a-zA-Z0-9-]+)+)'\n",
    "                match = re.match(domain_regex, url)\n",
    "                if match:\n",
    "                    domain = match.group(1)\n",
    "            return domain\n",
    "        except Exception as e:\n",
    "            print(f\"Function{_get_domain.__name__} failed returning default\" )\n",
    "            raise e\n",
    "\n",
    "    domain = _get_domain(url)\n",
    "    # API endpoint and parameters\n",
    "    endpoint = 'https://www.whoisxmlapi.com/whoisserver/WhoisService'\n",
    "    params = {\n",
    "        'apiKey': os.getenv('WHOIS_API'),\n",
    "        'domainName': domain,\n",
    "        'outputFormat': 'json'\n",
    "    }\n",
    "\n",
    "    # Make the API request\n",
    "    response = requests.get(endpoint, params=params)\n",
    "    data = response.json()\n",
    "\n",
    "    return data"
   ]
  },
  {
   "cell_type": "code",
   "execution_count": 28,
   "metadata": {},
   "outputs": [
    {
     "name": "stdout",
     "output_type": "stream",
     "text": [
      "Collecting python-dotenv\n",
      "  Downloading python_dotenv-1.0.0-py3-none-any.whl (19 kB)\n",
      "Installing collected packages: python-dotenv\n",
      "Successfully installed python-dotenv-1.0.0\n"
     ]
    }
   ],
   "source": [
    "!pip install python-dotenv"
   ]
  },
  {
   "cell_type": "code",
   "execution_count": 29,
   "metadata": {},
   "outputs": [],
   "source": [
    "from dotenv import load_dotenv"
   ]
  },
  {
   "cell_type": "code",
   "execution_count": 30,
   "metadata": {},
   "outputs": [
    {
     "data": {
      "text/plain": [
       "True"
      ]
     },
     "execution_count": 30,
     "metadata": {},
     "output_type": "execute_result"
    }
   ],
   "source": [
    "load_dotenv()"
   ]
  },
  {
   "cell_type": "code",
   "execution_count": null,
   "metadata": {},
   "outputs": [],
   "source": []
  },
  {
   "cell_type": "code",
   "execution_count": 31,
   "metadata": {},
   "outputs": [
    {
     "data": {
      "text/plain": [
       "{'WhoisRecord': {'domainName': 'beget.tech',\n",
       "  'parseCode': 8,\n",
       "  'audit': {'createdDate': '2023-05-27 11:39:02 UTC',\n",
       "   'updatedDate': '2023-05-27 11:39:02 UTC'},\n",
       "  'registrarName': 'Beget LLC',\n",
       "  'registrarIANAID': '3806',\n",
       "  'registryData': {'createdDate': '2016-08-29T09:01:43.0Z',\n",
       "   'updatedDate': '2022-08-04T06:48:41.0Z',\n",
       "   'expiresDate': '2023-08-29T23:59:59.0Z',\n",
       "   'registrant': {'organization': 'Beget LLC',\n",
       "    'country': 'RUSSIAN FEDERATION',\n",
       "    'countryCode': 'RU',\n",
       "    'rawText': 'Registrant Organization: Beget LLC\\nRegistrant Country: RU\\nRegistrant Email: Please query the RDDS service of the Registrar of Record identified in this output for information on how to contact the Registrant, Admin, or Tech contact of the queried domain name.'},\n",
       "   'administrativeContact': {'country': 'RUSSIAN FEDERATION',\n",
       "    'countryCode': 'RU',\n",
       "    'rawText': 'Admin Email: Please query the RDDS service of the Registrar of Record identified in this output for information on how to contact the Registrant, Admin, or Tech contact of the queried domain name.'},\n",
       "   'billingContact': {'country': 'RUSSIAN FEDERATION',\n",
       "    'countryCode': 'RU',\n",
       "    'rawText': 'Billing Email: Please query the RDDS service of the Registrar of Record identified in this output for information on how to contact the Registrant, Admin, or Tech contact of the queried domain name.'},\n",
       "   'technicalContact': {'country': 'RUSSIAN FEDERATION',\n",
       "    'countryCode': 'RU',\n",
       "    'rawText': 'Tech Email: Please query the RDDS service of the Registrar of Record identified in this output for information on how to contact the Registrant, Admin, or Tech contact of the queried domain name.'},\n",
       "   'domainName': 'beget.tech',\n",
       "   'nameServers': {'rawText': 'NS1.BEGET.COM\\nNS2.BEGET.COM\\nNS1.BEGET.PRO\\nNS2.BEGET.PRO\\n',\n",
       "    'hostNames': ['NS1.BEGET.COM',\n",
       "     'NS2.BEGET.COM',\n",
       "     'NS1.BEGET.PRO',\n",
       "     'NS2.BEGET.PRO'],\n",
       "    'ips': []},\n",
       "   'status': 'clientTransferProhibited',\n",
       "   'rawText': 'Domain Name: BEGET.TECH\\nRegistry Domain ID: D35898553-CNIC\\nRegistrar WHOIS Server: whois.beget.com\\nRegistrar URL: https://beget.com\\nUpdated Date: 2022-08-04T06:48:41.0Z\\nCreation Date: 2016-08-29T09:01:43.0Z\\nRegistry Expiry Date: 2023-08-29T23:59:59.0Z\\nRegistrar: Beget LLC\\nRegistrar IANA ID: 3806\\nDomain Status: clientTransferProhibited https://icann.org/epp#clientTransferProhibited\\nRegistrant Organization: Beget LLC\\nRegistrant State/Province:\\nRegistrant Country: RU\\nRegistrant Email: Please query the RDDS service of the Registrar of Record identified in this output for information on how to contact the Registrant, Admin, or Tech contact of the queried domain name.\\nAdmin Email: Please query the RDDS service of the Registrar of Record identified in this output for information on how to contact the Registrant, Admin, or Tech contact of the queried domain name.\\nTech Email: Please query the RDDS service of the Registrar of Record identified in this output for information on how to contact the Registrant, Admin, or Tech contact of the queried domain name.\\nName Server: NS1.BEGET.COM\\nName Server: NS2.BEGET.COM\\nName Server: NS1.BEGET.PRO\\nName Server: NS2.BEGET.PRO\\nDNSSEC: unsigned\\nBilling Email: Please query the RDDS service of the Registrar of Record identified in this output for information on how to contact the Registrant, Admin, or Tech contact of the queried domain name.\\nRegistrar Abuse Contact Email: abuse@beget.com\\nRegistrar Abuse Contact Phone: +7.8124494053\\nURL of the ICANN Whois Inaccuracy Complaint Form: https://www.icann.org/wicf/\\n>>> Last update of WHOIS database: 2023-05-27T11:38:32.0Z <<<\\n\\nFor more information on Whois status codes, please visit https://icann.org/epp\\n\\n>>> IMPORTANT INFORMATION ABOUT THE DEPLOYMENT OF RDAP: please visit\\nhttps://www.centralnic.com/support/rdap <<<\\n\\nThe Whois and RDAP services are provided by CentralNic, and contain\\ninformation pertaining to Internet domain names registered by our\\nour customers. By using this service you are agreeing (1) not to use any\\ninformation presented here for any purpose other than determining\\nownership of domain names, (2) not to store or reproduce this data in\\nany way, (3) not to use any high-volume, automated, electronic processes\\nto obtain data from this service. Abuse of this service is monitored and\\nactions in contravention of these terms will result in being permanently\\nblacklisted. All data is (c) CentralNic Ltd (https://www.centralnic.com)\\n\\nAccess to the Whois and RDAP services is rate limited. For more\\ninformation, visit https://registrar-console.centralnic.com/pub/whois_guidance.',\n",
       "   'parseCode': 4091,\n",
       "   'header': '',\n",
       "   'strippedText': 'Domain Name: BEGET.TECH\\nRegistrar WHOIS Server: whois.beget.com\\nRegistrar URL: https://beget.com\\nUpdated Date: 2022-08-04T06:48:41.0Z\\nCreation Date: 2016-08-29T09:01:43.0Z\\nRegistry Expiry Date: 2023-08-29T23:59:59.0Z\\nRegistrar: Beget LLC\\nRegistrar IANA ID: 3806\\nDomain Status: clientTransferProhibited https://icann.org/epp#clientTransferProhibited\\nRegistrant Organization: Beget LLC\\nRegistrant Country: RU\\nRegistrant Email: Please query the RDDS service of the Registrar of Record identified in this output for information on how to contact the Registrant, Admin, or Tech contact of the queried domain name.\\nAdmin Email: Please query the RDDS service of the Registrar of Record identified in this output for information on how to contact the Registrant, Admin, or Tech contact of the queried domain name.\\nTech Email: Please query the RDDS service of the Registrar of Record identified in this output for information on how to contact the Registrant, Admin, or Tech contact of the queried domain name.\\nName Server: NS1.BEGET.COM\\nName Server: NS2.BEGET.COM\\nName Server: NS1.BEGET.PRO\\nName Server: NS2.BEGET.PRO\\nBilling Email: Please query the RDDS service of the Registrar of Record identified in this output for information on how to contact the Registrant, Admin, or Tech contact of the queried domain name.\\nRegistrar Abuse Contact Email: abuse@beget.com\\nRegistrar Abuse Contact Phone: +7.8124494053\\n',\n",
       "   'footer': '',\n",
       "   'audit': {'createdDate': '2023-05-27 11:39:02 UTC',\n",
       "    'updatedDate': '2023-05-27 11:39:02 UTC'},\n",
       "   'registrarName': 'Beget LLC',\n",
       "   'registrarIANAID': '3806',\n",
       "   'createdDateNormalized': '2016-08-29 09:01:43 UTC',\n",
       "   'updatedDateNormalized': '2022-08-04 06:48:41 UTC',\n",
       "   'expiresDateNormalized': '2023-08-29 23:59:59 UTC',\n",
       "   'whoisServer': 'whois.beget.com'},\n",
       "  'contactEmail': 'abuse@beget.com',\n",
       "  'domainNameExt': '.tech',\n",
       "  'estimatedDomainAge': 2462}}"
      ]
     },
     "execution_count": 31,
     "metadata": {},
     "output_type": "execute_result"
    }
   ],
   "source": [
    "_get_whois_data('alexpay2.beget.tech')"
   ]
  }
 ],
 "metadata": {
  "kernelspec": {
   "display_name": "Python 3",
   "language": "python",
   "name": "python3"
  },
  "language_info": {
   "codemirror_mode": {
    "name": "ipython",
    "version": 3
   },
   "file_extension": ".py",
   "mimetype": "text/x-python",
   "name": "python",
   "nbconvert_exporter": "python",
   "pygments_lexer": "ipython3",
   "version": "3.8.16"
  },
  "orig_nbformat": 4
 },
 "nbformat": 4,
 "nbformat_minor": 2
}
