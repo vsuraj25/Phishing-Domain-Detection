{
 "cells": [
  {
   "attachments": {},
   "cell_type": "markdown",
   "metadata": {},
   "source": [
    "### Imports"
   ]
  },
  {
   "cell_type": "code",
   "execution_count": 2,
   "metadata": {},
   "outputs": [],
   "source": [
    "from dataclasses import dataclass\n",
    "from pathlib import Path\n",
    "from Phishing_Detector.utils import *\n",
    "from Phishing_Detector.constants import *\n",
    "import pandas as pd\n",
    "from sklearn.neural_network import MLPClassifier\n",
    "from sklearn.metrics import accuracy_score, precision_score, recall_score, f1_score, confusion_matrix, ConfusionMatrixDisplay\n",
    "import matplotlib.pyplot as plt"
   ]
  },
  {
   "cell_type": "code",
   "execution_count": 3,
   "metadata": {},
   "outputs": [
    {
     "data": {
      "text/plain": [
       "'c:\\\\DS_Projects\\\\Phishing-Domain-Detection'"
      ]
     },
     "execution_count": 3,
     "metadata": {},
     "output_type": "execute_result"
    }
   ],
   "source": [
    "os.chdir('../')\n",
    "#os.chdir('../DS_Projects/Phishing-Domain-Detection/')\n",
    "os.getcwd()"
   ]
  },
  {
   "attachments": {},
   "cell_type": "markdown",
   "metadata": {},
   "source": [
    "### Config Entity"
   ]
  },
  {
   "cell_type": "code",
   "execution_count": 72,
   "metadata": {},
   "outputs": [],
   "source": [
    "@dataclass(frozen=True)\n",
    "class ModelEvaluationConfig:\n",
    "    root_dir : Path\n",
    "    x_test_file_path : Path\n",
    "    y_test_file_path : Path\n",
    "    saved_model_file_path : Path\n",
    "    model_metrics_dir_path : Path\n",
    "    model_metrics_json_file_path : Path\n",
    "    model_metrics_cmat_file_path : Path"
   ]
  },
  {
   "attachments": {},
   "cell_type": "markdown",
   "metadata": {},
   "source": [
    "### Configuration"
   ]
  },
  {
   "cell_type": "code",
   "execution_count": 73,
   "metadata": {},
   "outputs": [],
   "source": [
    "class ConfigurationManager:\n",
    "\n",
    "    def __init__(\n",
    "            self, \n",
    "            config_path = CONFIG_FILE_PATH,\n",
    "            params_path = PARAMS_FILE_PATH\n",
    "    ):\n",
    "        self.config = read_yaml(config_path)\n",
    "        self.params = read_yaml(params_path)\n",
    "        create_directories([self.config.artifacts_root])\n",
    "\n",
    "    def get_model_evaluation_config(self) -> ModelEvaluationConfig:\n",
    "        \n",
    "        config = self.config.model_evaluation\n",
    "        create_directories([config.root_dir])\n",
    "\n",
    "        model_evaluation_config = ModelEvaluationConfig(\n",
    "            root_dir = config.root_dir,\n",
    "            x_test_file_path = config.x_test_file_path,\n",
    "            y_test_file_path = config.y_test_file_path,\n",
    "            saved_model_file_path = config.saved_model_file_path,\n",
    "            model_metrics_dir_path = config.model_metrics_dir_path,\n",
    "            model_metrics_json_file_path = config.model_metrics_json_file_path,\n",
    "            model_metrics_cmat_file_path = config.model_metrics_cmat_file_path\n",
    "        )\n",
    "\n",
    "        return model_evaluation_config\n",
    "\n"
   ]
  },
  {
   "cell_type": "code",
   "execution_count": 81,
   "metadata": {},
   "outputs": [],
   "source": [
    "class ModelEvaluation:\n",
    "    \n",
    "    def __init__(self, config:ModelEvaluationConfig):\n",
    "        print(f\"{'>'*10} Starting Model Evaluation Stage! {'<'*10}\")\n",
    "        \n",
    "        print(f\"Getting Configuration for Model Evaluation Stage...\")\n",
    "        self.config = config\n",
    "        print(f\"Configurations : {config}\")\n",
    "\n",
    "        print(f\"Creating required directories...\")\n",
    "        create_directories([self.config.model_metrics_dir_path])\n",
    "\n",
    "\n",
    "    def evaluate_metrics(self):\n",
    "        print(f\"Loading training data...\")\n",
    "        x_test, y_test  = self._load_test_data()\n",
    "        print(f\"Testing data loaded successfully...\")\n",
    "\n",
    "        print(f\"Loading model for evaluation...\")\n",
    "        model = self._load_model()\n",
    "        print(f\"Model loaded successfully...\")\n",
    "\n",
    "        print(f\"Prediction on test data...\")\n",
    "        y_prob = model.predict(x_test)\n",
    "\n",
    "        self._eval_and_save_metrics(actual = y_test,\n",
    "                                    predicted = y_prob,\n",
    "                                    save_metrics_path = Path(self.config.model_metrics_json_file_path),\n",
    "                                    save_cmat_path = Path(self.config.model_metrics_cmat_file_path))\n",
    "\n",
    "    def _load_test_data(self):\n",
    "        x_test = pd.read_csv(Path(self.config.x_test_file_path))\n",
    "        y_test = pd.read_csv(Path(self.config.y_test_file_path))\n",
    "\n",
    "        return x_test, y_test\n",
    "\n",
    "    def _load_model(self):\n",
    "        with open(Path(self.config.saved_model_file_path), 'rb') as model_file:\n",
    "            model = joblib.load(model_file)\n",
    "        return model\n",
    "    \n",
    "    def _eval_and_save_metrics(self,actual, predicted, save_metrics_path, save_cmat_path):\n",
    "        print(f\"Starting metrics evaluation...\")\n",
    "        acc_score = round(accuracy_score(actual, predicted), 4)\n",
    "        rec_score = round(recall_score(actual, predicted),4)\n",
    "        prec_score = round(precision_score(actual, predicted),4)\n",
    "        f1 = round(f1_score(actual, predicted))\n",
    "        confusion_mat = confusion_matrix(actual, predicted)\n",
    "        cm_display = ConfusionMatrixDisplay(confusion_matrix = confusion_mat, display_labels = [False, True])\n",
    "\n",
    "        report = {\n",
    "            \"Accuracy Score\" : acc_score,\n",
    "            \"Recall Score\" : rec_score,\n",
    "            \"Precision Score\" : prec_score,\n",
    "            \"F1 Score\" : f1,\n",
    "        }\n",
    "        print(f\"Evaluation Result : \\n {report}\")\n",
    "        print(f\"Confusion Matrix : \\n {confusion_mat}\")\n",
    "\n",
    "        print(f\"Saving Evaluation Report at {save_metrics_path}\")\n",
    "        save_json(path = Path(save_metrics_path), data = report)\n",
    "        print(f\"Evaluation Report saved at {save_metrics_path}\")\n",
    "\n",
    "        print(f\"Saving Confusion Matrix Report at {save_cmat_path}\")\n",
    "        cm_display.plot()\n",
    "        plt.savefig(Path(save_cmat_path))\n",
    "        print(f\"Confusion Matrix Report saved at {save_cmat_path}\")\n",
    "\n",
    "\n"
   ]
  },
  {
   "cell_type": "code",
   "execution_count": 82,
   "metadata": {},
   "outputs": [
    {
     "name": "stdout",
     "output_type": "stream",
     "text": [
      ">>>>>>>>>> Starting Model Evaluation Stage! <<<<<<<<<<\n",
      "Getting Configuration for Model Evaluation Stage...\n",
      "Configurations : ModelEvaluationConfig(root_dir='model_evaluation', x_test_file_path='artifacts/data_transformation/train_test_data/x_test.csv', y_test_file_path='artifacts/data_transformation/train_test_data/y_test.csv', saved_model_file_path='artifacts/model_training/saved_models/model.joblib', model_metrics_dir_path='artifacts/model_evaluation/models_results', model_metrics_json_file_path='artifacts/model_evaluation/models_results/results.json', model_metrics_cmat_file_path='artifacts/model_evaluation/models_results/confusion_matrix.png')\n",
      "Creating required directories...\n",
      "Loading training data...\n",
      "Testing data loaded successfully...\n",
      "Loading model for evaluation...\n",
      "Model loaded successfully...\n",
      "Prediction on test data...\n",
      "Starting metrics evaluation...\n",
      "Evaluation Result : \n",
      " {'Accuracy Score': 0.9652677279305355, 'Recall Score': 0.9860847564832385, 'Precision Score': 0.9546846295162278, 'F1 Score': 0.9701306782825141}\n",
      "Confusion Matrix : \n",
      " [[1109   74]\n",
      " [  22 1559]]\n",
      "Saving Evaluation Report at artifacts\\model_evaluation\\models_results\\results.json\n",
      "Evaluation Report saved at artifacts\\model_evaluation\\models_results\\results.json\n",
      "Saving Confusion Matrix Report at artifacts\\model_evaluation\\models_results\\confusion_matrix.png\n",
      "Confusion Matrix Report saved at artifacts\\model_evaluation\\models_results\\confusion_matrix.png\n"
     ]
    },
    {
     "data": {
      "image/png": "[encoded data removed]",
      "text/plain": [
       "<Figure size 640x480 with 2 Axes>"
      ]
     },
     "metadata": {},
     "output_type": "display_data"
    }
   ],
   "source": [
    "try:\n",
    "    config = ConfigurationManager()\n",
    "    model_evaluation_config = config.get_model_evaluation_config()\n",
    "    model_evaluation = ModelEvaluation(config = model_evaluation_config)\n",
    "    model_evaluation.evaluate_metrics()\n",
    "except Exception as e:\n",
    "    raise e"
   ]
  }
 ],
 "metadata": {
  "kernelspec": {
   "display_name": "Python 3",
   "language": "python",
   "name": "python3"
  },
  "language_info": {
   "codemirror_mode": {
    "name": "ipython",
    "version": 3
   },
   "file_extension": ".py",
   "mimetype": "text/x-python",
   "name": "python",
   "nbconvert_exporter": "python",
   "pygments_lexer": "ipython3",
   "version": "3.8.16"
  },
  "orig_nbformat": 4
 },
 "nbformat": 4,
 "nbformat_minor": 2
}
