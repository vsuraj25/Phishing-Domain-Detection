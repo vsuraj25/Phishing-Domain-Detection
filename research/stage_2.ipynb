{
 "cells": [
  {
   "attachments": {},
   "cell_type": "markdown",
   "metadata": {},
   "source": [
    "### Imports"
   ]
  },
  {
   "cell_type": "code",
   "execution_count": 1,
   "metadata": {},
   "outputs": [],
   "source": [
    "from dataclasses import dataclass\n",
    "from pathlib import Path\n",
    "from Phishing_Detector.utils import *\n",
    "from Phishing_Detector.constants import *\n",
    "from urllib import request\n",
    "from scipy.io import arff\n",
    "import pandas as pd"
   ]
  },
  {
   "cell_type": "code",
   "execution_count": 3,
   "metadata": {},
   "outputs": [
    {
     "data": {
      "text/plain": [
       "'c:\\\\DS_Projects\\\\Phishing-Domain-Detection'"
      ]
     },
     "execution_count": 3,
     "metadata": {},
     "output_type": "execute_result"
    }
   ],
   "source": [
    "os.chdir('../')\n",
    "#os.chdir('../DS_Projects/Phishing-Domain-Detection/')\n",
    "os.getcwd()"
   ]
  },
  {
   "attachments": {},
   "cell_type": "markdown",
   "metadata": {},
   "source": [
    "### Config Entity"
   ]
  },
  {
   "cell_type": "code",
   "execution_count": 11,
   "metadata": {},
   "outputs": [],
   "source": [
    "@dataclass(frozen=True)\n",
    "class DataValidationConfig:\n",
    "    schema: dict\n",
    "    processed_data_file_path: Path\n"
   ]
  },
  {
   "attachments": {},
   "cell_type": "markdown",
   "metadata": {},
   "source": [
    "### Configuration"
   ]
  },
  {
   "cell_type": "code",
   "execution_count": 12,
   "metadata": {},
   "outputs": [],
   "source": [
    "class ConfigurationManager:\n",
    "\n",
    "    def __init__(\n",
    "            self, \n",
    "            config_path = CONFIG_FILE_PATH,\n",
    "            params_path = PARAMS_FILE_PATH\n",
    "    ):\n",
    "        self.config = read_yaml(config_path)\n",
    "        self.params = read_yaml(params_path)\n",
    "        create_directories([self.config.artifacts_root])\n",
    "\n",
    "    def get_data_validation_config(self) -> DataValidationConfig:\n",
    "\n",
    "        config = self.config.data_validation\n",
    "\n",
    "        data_validation_config = DataValidationConfig(\n",
    "            schema = config.schema,\n",
    "            processed_data_file_path= config.processed_data_file_path\n",
    "        )\n",
    "\n",
    "        return data_validation_config\n",
    "\n"
   ]
  },
  {
   "cell_type": "code",
   "execution_count": 13,
   "metadata": {},
   "outputs": [],
   "source": [
    "class DataNotValid(Exception):\n",
    "    def __init__(self, message = \"Data is not valid\"):\n",
    "        self.message = message\n",
    "        super().__init__(self.message)"
   ]
  },
  {
   "cell_type": "code",
   "execution_count": 24,
   "metadata": {},
   "outputs": [],
   "source": [
    "class DataValidation:\n",
    "    \n",
    "    def __init__(self, config:DataValidationConfig):\n",
    "        self.config = config\n",
    "        \n",
    "    def validate_data(self):\n",
    "\n",
    "        def validate_columns(schema, df):\n",
    "            print(\"Validating columns.\")\n",
    "            validation_status = False\n",
    "            for i in df.columns:\n",
    "                if i not in list(schema.keys()):\n",
    "                    validation_status = False\n",
    "                    print(f\"Invalid columns found - {i}.\")\n",
    "                    break\n",
    "                else:\n",
    "                    validation_status = True\n",
    "                \n",
    "                if df[i].dtype != schema[i]:\n",
    "                    validation_status = False\n",
    "                    print(f\"Invalid data type found - {i} : {df[i].dtype}.\")\n",
    "                    break\n",
    "                else:\n",
    "                    validation_status = True\n",
    "\n",
    "            if validation_status:\n",
    "                print(\"All Columns are valid.\")\n",
    "            else:\n",
    "                print(\"Failed to validate columns.\")\n",
    "\n",
    "            return validation_status\n",
    "\n",
    "        def validate_no_of_cols(schema_no_of_cols, df):\n",
    "            print(\"Validating number of columns.\")\n",
    "            validation_status = False\n",
    "\n",
    "            if schema_no_of_cols == df.shape[1]:\n",
    "                validation_status = True\n",
    "                print(\"Valid number of columns found.\")\n",
    "            else:\n",
    "                validation_status = False\n",
    "                print(f\"Invalid no of columns - {df.shape[1]}.\")\n",
    "                print(\"Failed to validate total number of columns.\")\n",
    "                \n",
    "            return validation_status\n",
    "\n",
    "        def validate_no_of_rows(schema_no_of_rows, df):\n",
    "            print(\"Validating number of rows.\")\n",
    "            validation_status = False\n",
    "            \n",
    "            if schema_no_of_rows == df.shape[0]:\n",
    "                validation_status = True\n",
    "                print(\"Valid number of rows found.\")\n",
    "            else:\n",
    "                validation_status = False\n",
    "                print(f\"Invalid no of rows - {df.shape[0]}.\")\n",
    "                print(\"Failed to validate total number of rows.\")\n",
    "            \n",
    "            return validation_status\n",
    "\n",
    "        try:\n",
    "            print(f\"{'-'*30} Validating the dataset {'-'*30}\")\n",
    "            print(\"Reding validation schema.\")\n",
    "            schema = self.config.schema\n",
    "            schema_columns = schema['columns']\n",
    "            schema_total_cols = schema['no_of_cols']\n",
    "            schema_total_rows = schema['no_of_rows']\n",
    "            print(\"Loading the data.\")\n",
    "            df = pd.read_csv(Path(self.config.processed_data_file_path))\n",
    "            \n",
    "            val_cols = validate_columns(schema_columns, df)\n",
    "            val_total_cols = validate_no_of_cols(schema_total_cols,df)\n",
    "            val_total_rows = validate_no_of_rows(schema_total_rows, df)\n",
    "            validation_status = val_cols and val_total_cols and val_total_rows\n",
    "\n",
    "            if validation_status:\n",
    "                pass\n",
    "            else:\n",
    "                raise DataNotValid\n",
    "        except Exception as e:\n",
    "            raise e\n",
    "\n",
    "\n",
    "        \n"
   ]
  },
  {
   "cell_type": "code",
   "execution_count": 25,
   "metadata": {},
   "outputs": [
    {
     "name": "stdout",
     "output_type": "stream",
     "text": [
      "------------------------------ Validating the dataset ------------------------------\n",
      "Reding validation schema.\n",
      "Loading the data.\n",
      "Validating columns.\n",
      "All Columns are valid.\n",
      "Validating number of columns.\n",
      "Valid number of columns found.\n",
      "Validating number of rows.\n",
      "Valid number of rows found.\n"
     ]
    }
   ],
   "source": [
    "try:\n",
    "    config = ConfigurationManager()\n",
    "    data_validation_config = config.get_data_validation_config()\n",
    "    data_validation = DataValidation(config = data_validation_config)\n",
    "    data_validation.validate_data()\n",
    "except Exception as e:\n",
    "    raise e"
   ]
  }
 ],
 "metadata": {
  "kernelspec": {
   "display_name": "Python 3",
   "language": "python",
   "name": "python3"
  },
  "language_info": {
   "codemirror_mode": {
    "name": "ipython",
    "version": 3
   },
   "file_extension": ".py",
   "mimetype": "text/x-python",
   "name": "python",
   "nbconvert_exporter": "python",
   "pygments_lexer": "ipython3",
   "version": "3.8.16"
  },
  "orig_nbformat": 4
 },
 "nbformat": 4,
 "nbformat_minor": 2
}
