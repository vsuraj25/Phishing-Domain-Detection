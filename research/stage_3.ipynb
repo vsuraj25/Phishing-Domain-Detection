{
 "cells": [
  {
   "attachments": {},
   "cell_type": "markdown",
   "metadata": {},
   "source": [
    "### Imports"
   ]
  },
  {
   "cell_type": "code",
   "execution_count": 1,
   "metadata": {},
   "outputs": [],
   "source": [
    "from dataclasses import dataclass\n",
    "from pathlib import Path\n",
    "from Phishing_Detector.utils import *\n",
    "from Phishing_Detector.constants import *\n",
    "from sklearn.impute import SimpleImputer\n",
    "from urllib import request\n",
    "from scipy.io import arff\n",
    "import pandas as pd\n",
    "from sklearn.model_selection import train_test_split"
   ]
  },
  {
   "cell_type": "code",
   "execution_count": 2,
   "metadata": {},
   "outputs": [
    {
     "data": {
      "text/plain": [
       "'c:\\\\DS_Projects\\\\Phishing-Domain-Detection'"
      ]
     },
     "execution_count": 2,
     "metadata": {},
     "output_type": "execute_result"
    }
   ],
   "source": [
    "os.chdir('../')\n",
    "#os.chdir('../DS_Projects/Phishing-Domain-Detection/')\n",
    "os.getcwd()"
   ]
  },
  {
   "attachments": {},
   "cell_type": "markdown",
   "metadata": {},
   "source": [
    "### Config Entity"
   ]
  },
  {
   "cell_type": "code",
   "execution_count": 13,
   "metadata": {},
   "outputs": [],
   "source": [
    "@dataclass(frozen=True)\n",
    "class DataTransformationConfig:\n",
    "    root_dir: Path\n",
    "    data_validation_report: Path\n",
    "    processed_data_file_path: Path\n",
    "    transformed_data_dir_path: Path\n",
    "    transformed_data_file_path: Path\n",
    "    train_test_data_dir_path: Path\n",
    "    x_train_file_path: Path\n",
    "    x_test_file_path: Path\n",
    "    y_train_file_path: Path\n",
    "    y_test_file_path: Path\n",
    "    param_imputer_strategy: str\n",
    "    param_test_size: float\n",
    "    param_random_state: int\n",
    "    param_target: str"
   ]
  },
  {
   "attachments": {},
   "cell_type": "markdown",
   "metadata": {},
   "source": [
    "### Configuration"
   ]
  },
  {
   "cell_type": "code",
   "execution_count": 14,
   "metadata": {},
   "outputs": [],
   "source": [
    "class ConfigurationManager:\n",
    "\n",
    "    def __init__(\n",
    "            self, \n",
    "            config_path = CONFIG_FILE_PATH,\n",
    "            params_path = PARAMS_FILE_PATH\n",
    "    ):\n",
    "        self.config = read_yaml(config_path)\n",
    "        self.params = read_yaml(params_path)\n",
    "        create_directories([self.config.artifacts_root])\n",
    "\n",
    "    def get_data_transformation_config(self) -> DataTransformationConfig:\n",
    "        \n",
    "        config = self.config.data_transformation\n",
    "        params = self.params\n",
    "        create_directories([config.root_dir])\n",
    "\n",
    "        data_transformation_config = DataTransformationConfig(\n",
    "            root_dir = config.root_dir,\n",
    "            data_validation_report = config.data_validation_report,\n",
    "            processed_data_file_path = config.processed_data_file_path,\n",
    "            transformed_data_dir_path = config.transformed_data_dir_path,\n",
    "            transformed_data_file_path = config.transformed_data_file_path,\n",
    "            train_test_data_dir_path = config.train_test_data_dir_path,\n",
    "            x_train_file_path = config.x_train_file_path,\n",
    "            x_test_file_path = config.x_test_file_path,\n",
    "            y_train_file_path = config.y_train_file_path,\n",
    "            y_test_file_path = config.y_test_file_path,\n",
    "            param_imputer_strategy = params.IMPUTER_STRATEGY,\n",
    "            param_test_size = params.TEST_SIZE,\n",
    "            param_random_state = params.RANDOM_STATE,\n",
    "            param_target = params.TARGET\n",
    "        )\n",
    "\n",
    "        return data_transformation_config\n",
    "\n"
   ]
  },
  {
   "cell_type": "code",
   "execution_count": 18,
   "metadata": {},
   "outputs": [],
   "source": [
    "class DataTransformation:\n",
    "    \n",
    "    def __init__(self, config:DataTransformationConfig):\n",
    "        print(f\"{'>'*10} Starting Data Transformation Stage! {'<'*10}\")\n",
    "        \n",
    "        print(f\"Getting Configuration for Data Transformation Stage...\")\n",
    "        self.config = config\n",
    "        print(f\"Configurations : {config}\")\n",
    "\n",
    "        print(f\"Creating required directories...\")\n",
    "        create_directories([self.config.transformed_data_dir_path])\n",
    "        create_directories([self.config.train_test_data_dir_path])\n",
    "\n",
    "    def get_validation_status(self) -> bool:\n",
    "        print(f\"Loading data validation report...\")\n",
    "        validation_report = load_json(Path(self.config.data_validation_report))\n",
    "        final_validation_status = validation_report['final_validation_status']\n",
    "        print(f\"Data Validation Status : {final_validation_status}\")\n",
    "        return final_validation_status\n",
    "\n",
    "    def transform_data(self):\n",
    "        if self.get_validation_status():\n",
    "            print(f\"Reading the validated data...\")\n",
    "            data = pd.read_csv(self.config.processed_data_file_path)\n",
    "\n",
    "            print(f\"Filling null values using SimpleImputer(strategy = {self.config.param_imputer_strategy})...\")\n",
    "            imputer = SimpleImputer(strategy=self.config.param_imputer_strategy)\n",
    "            imputer.fit(data)\n",
    "            print(f\"Null Values Imputed Successfully...\")\n",
    "            imputed_data = imputer.transform(data)\n",
    "            imputed_df = pd.DataFrame(imputed_data, columns=data.columns)\n",
    "            imputed_df.to_csv(self.config.transformed_data_file_path, index = False)\n",
    "            print(f\"Transformed Data Saved at {self.config.transformed_data_file_path}...\")\n",
    "        else:\n",
    "            print(f'Data is not validated - Validation Status = {self.get_validation_status()}')\n",
    "\n",
    "    def split_data(self):\n",
    "        print(f\"Splitting the transformed data into train and test splits...\")\n",
    "\n",
    "        data = pd.read_csv(self.config.transformed_data_file_path)\n",
    "        X = data.drop(self.config.param_target, axis = 1)\n",
    "        Y = data[self.config.param_target]\n",
    "        x_train, x_test, y_train, y_test = train_test_split(X, Y, test_size= self.config.param_test_size, \n",
    "                                                            random_state= self.config.param_random_state)\n",
    "        print(f\"Train and test splits created successfully...\")\n",
    "\n",
    "        x_train.to_csv(self.config.x_train_file_path, index = False)\n",
    "        print(f\"x_train saved at {self.config.x_train_file_path}\")\n",
    "\n",
    "        x_test.to_csv(self.config.x_test_file_path, index = False)\n",
    "        print(f\"x_test saved at {self.config.x_test_file_path}\")\n",
    "\n",
    "        y_train.to_csv(self.config.y_train_file_path, index = False)\n",
    "        print(f\"y_train saved at {self.config.y_train_file_path}\")\n",
    "\n",
    "        y_test.to_csv(self.config.y_test_file_path, index = False)\n",
    "        print(f\"y_test saved at {self.config.y_test_file_path}\")\n",
    "\n",
    "        print(f\"{'>'*10} Data Transformation Stage Completed Successfully! {'<'*10}\")"
   ]
  },
  {
   "cell_type": "code",
   "execution_count": 19,
   "metadata": {},
   "outputs": [
    {
     "name": "stdout",
     "output_type": "stream",
     "text": [
      ">>>>>>>>>> Starting Data Transformation Stage! <<<<<<<<<<\n",
      "Getting Configuration for Data Transformation Stage...\n",
      "Configurations : DataTransformationConfig(root_dir='artifacts/data_transformation', data_validation_report='artifacts/data_validation/validation_report/report.json', processed_data_file_path='artifacts/data_ingestion/processed_data/data.csv', transformed_data_dir_path='artifacts/data_transformation/transformed_data', transformed_data_file_path='artifacts/data_transformation/transformed_data/transformed_data.csv', train_test_data_dir_path='artifacts/data_transformation/train_test_data', x_train_file_path='artifacts/data_transformation/train_test_data/x_train.csv', x_test_file_path='artifacts/data_transformation/train_test_data/x_test.csv', y_train_file_path='artifacts/data_transformation/train_test_data/y_train.csv', y_test_file_path='artifacts/data_transformation/train_test_data/y_test.csv', param_imputer_strategy='most_frequent', param_test_size=0.25, param_random_state=42, param_target='Result')\n",
      "Creating required directories...\n",
      "Loading data validation report...\n",
      "Data Validation Status : True\n",
      "Reading the validated data...\n",
      "Filling null values using SimpleImputer(strategy = most_frequent)...\n",
      "Null Values Imputed Successfully...\n",
      "Transformed Data Saved at artifacts/data_transformation/transformed_data/transformed_data.csv...\n",
      "Splitting the transformed data into train and test splits...\n",
      "Train and test splits created successfully...\n",
      "x_train saved at artifacts/data_transformation/train_test_data/x_train.csv\n",
      "x_test saved at artifacts/data_transformation/train_test_data/x_test.csv\n",
      "y_train saved at artifacts/data_transformation/train_test_data/y_train.csv\n",
      "y_test saved at artifacts/data_transformation/train_test_data/y_test.csv\n",
      ">>>>>>>>>> Data Transformation Stage Completed Successfully! <<<<<<<<<<\n"
     ]
    }
   ],
   "source": [
    "try:\n",
    "    config = ConfigurationManager()\n",
    "    data_transformation_config = config.get_data_transformation_config()\n",
    "    data_transformation = DataTransformation(config = data_transformation_config)\n",
    "    data_transformation.transform_data()\n",
    "    data_transformation.split_data()\n",
    "except Exception as e:\n",
    "    raise e"
   ]
  }
 ],
 "metadata": {
  "kernelspec": {
   "display_name": "Python 3",
   "language": "python",
   "name": "python3"
  },
  "language_info": {
   "codemirror_mode": {
    "name": "ipython",
    "version": 3
   },
   "file_extension": ".py",
   "mimetype": "text/x-python",
   "name": "python",
   "nbconvert_exporter": "python",
   "pygments_lexer": "ipython3",
   "version": "3.8.16"
  },
  "orig_nbformat": 4
 },
 "nbformat": 4,
 "nbformat_minor": 2
}
