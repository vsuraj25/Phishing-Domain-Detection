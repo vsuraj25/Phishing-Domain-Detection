{
 "cells": [
  {
   "attachments": {},
   "cell_type": "markdown",
   "metadata": {},
   "source": [
    "### Imports"
   ]
  },
  {
   "cell_type": "code",
   "execution_count": 38,
   "metadata": {},
   "outputs": [],
   "source": [
    "from dataclasses import dataclass\n",
    "from pathlib import Path\n",
    "from Phishing_Detector.utils import *\n",
    "from Phishing_Detector.constants import *\n",
    "from urllib import request\n",
    "from scipy.io import arff\n",
    "import pandas as pd"
   ]
  },
  {
   "cell_type": "code",
   "execution_count": 40,
   "metadata": {},
   "outputs": [
    {
     "data": {
      "text/plain": [
       "'c:\\\\DS_Projects\\\\Phishing-Domain-Detection'"
      ]
     },
     "execution_count": 40,
     "metadata": {},
     "output_type": "execute_result"
    }
   ],
   "source": [
    "#os.chdir('../')\n",
    "os.chdir('../DS_Projects/Phishing-Domain-Detection/')\n",
    "os.getcwd()"
   ]
  },
  {
   "attachments": {},
   "cell_type": "markdown",
   "metadata": {},
   "source": [
    "### Config Entity"
   ]
  },
  {
   "cell_type": "code",
   "execution_count": 47,
   "metadata": {},
   "outputs": [],
   "source": [
    "@dataclass(frozen=True)\n",
    "class DataIngestionConfig:\n",
    "    root_dir : Path\n",
    "    source_url : str\n",
    "    local_data_dir_path : Path\n",
    "    processed_data_dir_path : Path\n",
    "    local_data_file_path : Path\n",
    "    processed_data_file_path : Path\n"
   ]
  },
  {
   "attachments": {},
   "cell_type": "markdown",
   "metadata": {},
   "source": [
    "### Configuration"
   ]
  },
  {
   "cell_type": "code",
   "execution_count": 59,
   "metadata": {},
   "outputs": [],
   "source": [
    "class ConfigurationManager:\n",
    "\n",
    "    def __init__(\n",
    "            self, \n",
    "            config_path = CONFIG_FILE_PATH,\n",
    "            params_path = PARAMS_FILE_PATH\n",
    "    ):\n",
    "        self.config = read_yaml(config_path)\n",
    "        self.params = read_yaml(params_path)\n",
    "        create_directories([self.config.artifacts_root])\n",
    "\n",
    "    def get_data_ingestion_config(self) -> DataIngestionConfig:\n",
    "\n",
    "        config = self.config.data_ingestion\n",
    "\n",
    "        create_directories([config.root_dir])\n",
    "\n",
    "        data_ingestion_config = DataIngestionConfig(\n",
    "            root_dir= config.root_dir,\n",
    "            source_url= config.source_url,\n",
    "            local_data_dir_path= config.local_data_dir_path,\n",
    "            processed_data_dir_path= config.processed_data_dir_path,\n",
    "            local_data_file_path= config.local_data_file_path,\n",
    "            processed_data_file_path= config.processed_data_file_path\n",
    "        )\n",
    "\n",
    "        return data_ingestion_config\n",
    "\n"
   ]
  },
  {
   "cell_type": "code",
   "execution_count": 60,
   "metadata": {},
   "outputs": [],
   "source": [
    "class DataIngestion:\n",
    "    \n",
    "    def __init__(self, config:DataIngestionConfig):\n",
    "        self.config = config\n",
    "        create_directories([config.local_data_dir_path])\n",
    "        create_directories([config.processed_data_dir_path])\n",
    "\n",
    "    def download_file(self):\n",
    "        if not os.path.exists(self.config.local_data_file_path):\n",
    "            request.urlretrieve(\n",
    "                url = self.config.source_url,\n",
    "                filename= self.config.local_data_file_path\n",
    "            )\n",
    "        else:\n",
    "            pass\n",
    "\n",
    "    def convert_to_csv(self):\n",
    "\n",
    "        if not os.path.exists(self.config.processed_data_file_path):\n",
    "            data = arff.loadarff(Path(self.config.local_data_file_path))\n",
    "            data= pd.DataFrame(data[0])\n",
    "            data = data.apply(lambda x: x.str.decode('utf8'))\n",
    "            data = data.apply(pd.to_numeric, errors = 'ignore')\n",
    "            data.to_csv(path_or_buf= self.config.processed_data_file_path, index=False)\n",
    "        else:\n",
    "            pass\n",
    "\n"
   ]
  },
  {
   "cell_type": "code",
   "execution_count": 61,
   "metadata": {},
   "outputs": [],
   "source": [
    "try:\n",
    "    config = ConfigurationManager()\n",
    "    data_ingestion_config = config.get_data_ingestion_config()\n",
    "    data_ingestion = DataIngestion(config = data_ingestion_config)\n",
    "    data_ingestion.download_file()\n",
    "    data_ingestion.convert_to_csv()\n",
    "except Exception as e:\n",
    "    raise e"
   ]
  }
 ],
 "metadata": {
  "kernelspec": {
   "display_name": "Python 3",
   "language": "python",
   "name": "python3"
  },
  "language_info": {
   "codemirror_mode": {
    "name": "ipython",
    "version": 3
   },
   "file_extension": ".py",
   "mimetype": "text/x-python",
   "name": "python",
   "nbconvert_exporter": "python",
   "pygments_lexer": "ipython3",
   "version": "3.8.16"
  },
  "orig_nbformat": 4
 },
 "nbformat": 4,
 "nbformat_minor": 2
}
